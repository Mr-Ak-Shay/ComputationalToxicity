{
  "cells": [
    {
      "cell_type": "code",
      "execution_count": null,
      "metadata": {
        "colab": {
          "base_uri": "https://localhost:8080/"
        },
        "id": "wSx5LLKjAu9f",
        "outputId": "f38c32a9-c950-48e9-bba5-49fe1851903b"
      },
      "outputs": [
        {
          "name": "stdout",
          "output_type": "stream",
          "text": [
            "Dataset URL: https://www.kaggle.com/datasets/shay2030/processed-graphs-torch-filefor-evaluating-models\n",
            "License(s): unknown\n",
            "Downloading processed-graphs-torch-filefor-evaluating-models.zip to /content\n",
            " 97% 417M/428M [00:05<00:00, 30.2MB/s]\n",
            "100% 428M/428M [00:05<00:00, 88.6MB/s]\n"
          ]
        }
      ],
      "source": [
        "!mkdir -p ~/.kaggle\n",
        "!mv kaggle.json ~/.kaggle/\n",
        "!chmod 600 ~/.kaggle/kaggle.json\n",
        "\n",
        "!kaggle datasets download -d shay2030/processed-graphs-torch-filefor-evaluating-models --force"
      ]
    },
    {
      "cell_type": "code",
      "execution_count": null,
      "metadata": {
        "colab": {
          "base_uri": "https://localhost:8080/"
        },
        "id": "us-DUX-CBbVK",
        "outputId": "0928574c-cb4a-4726-ce57-5f62e3b572e5"
      },
      "outputs": [
        {
          "name": "stdout",
          "output_type": "stream",
          "text": [
            "Files extracted to /content/processed_graphs\n"
          ]
        }
      ],
      "source": [
        "import os\n",
        "import zipfile\n",
        "\n",
        "zip_path = \"/content/processed-graphs-torch-filefor-evaluating-models.zip\"\n",
        "extract_path = \"/content/processed_graphs\"\n",
        "\n",
        "os.makedirs(extract_path, exist_ok=True)\n",
        "\n",
        "with zipfile.ZipFile(zip_path, \"r\") as zip_ref:\n",
        "    zip_ref.extractall(extract_path)\n",
        "\n",
        "print(f\"Files extracted to {extract_path}\")\n"
      ]
    },
    {
      "cell_type": "code",
      "execution_count": null,
      "metadata": {
        "colab": {
          "base_uri": "https://localhost:8080/"
        },
        "id": "h8uBg8qRBkRz",
        "outputId": "bcbe7771-1cba-498b-a579-23db167ecc75"
      },
      "outputs": [
        {
          "name": "stdout",
          "output_type": "stream",
          "text": [
            "Collecting torch_geometric\n",
            "  Downloading torch_geometric-2.6.1-py3-none-any.whl.metadata (63 kB)\n",
            "\u001b[?25l     \u001b[90m━━━━━━━━━━━━━━━━━━━━━━━━━━━━━━━━━━━━━━━━\u001b[0m \u001b[32m0.0/63.1 kB\u001b[0m \u001b[31m?\u001b[0m eta \u001b[36m-:--:--\u001b[0m\r\u001b[2K     \u001b[90m━━━━━━━━━━━━━━━━━━━━━━━━━━━━━━━━━━━━━━━━\u001b[0m \u001b[32m63.1/63.1 kB\u001b[0m \u001b[31m2.5 MB/s\u001b[0m eta \u001b[36m0:00:00\u001b[0m\n",
            "\u001b[?25hRequirement already satisfied: aiohttp in /usr/local/lib/python3.11/dist-packages (from torch_geometric) (3.11.12)\n",
            "Requirement already satisfied: fsspec in /usr/local/lib/python3.11/dist-packages (from torch_geometric) (2024.10.0)\n",
            "Requirement already satisfied: jinja2 in /usr/local/lib/python3.11/dist-packages (from torch_geometric) (3.1.5)\n",
            "Requirement already satisfied: numpy in /usr/local/lib/python3.11/dist-packages (from torch_geometric) (1.26.4)\n",
            "Requirement already satisfied: psutil>=5.8.0 in /usr/local/lib/python3.11/dist-packages (from torch_geometric) (5.9.5)\n",
            "Requirement already satisfied: pyparsing in /usr/local/lib/python3.11/dist-packages (from torch_geometric) (3.2.1)\n",
            "Requirement already satisfied: requests in /usr/local/lib/python3.11/dist-packages (from torch_geometric) (2.32.3)\n",
            "Requirement already satisfied: tqdm in /usr/local/lib/python3.11/dist-packages (from torch_geometric) (4.67.1)\n",
            "Requirement already satisfied: aiohappyeyeballs>=2.3.0 in /usr/local/lib/python3.11/dist-packages (from aiohttp->torch_geometric) (2.4.6)\n",
            "Requirement already satisfied: aiosignal>=1.1.2 in /usr/local/lib/python3.11/dist-packages (from aiohttp->torch_geometric) (1.3.2)\n",
            "Requirement already satisfied: attrs>=17.3.0 in /usr/local/lib/python3.11/dist-packages (from aiohttp->torch_geometric) (25.1.0)\n",
            "Requirement already satisfied: frozenlist>=1.1.1 in /usr/local/lib/python3.11/dist-packages (from aiohttp->torch_geometric) (1.5.0)\n",
            "Requirement already satisfied: multidict<7.0,>=4.5 in /usr/local/lib/python3.11/dist-packages (from aiohttp->torch_geometric) (6.1.0)\n",
            "Requirement already satisfied: propcache>=0.2.0 in /usr/local/lib/python3.11/dist-packages (from aiohttp->torch_geometric) (0.2.1)\n",
            "Requirement already satisfied: yarl<2.0,>=1.17.0 in /usr/local/lib/python3.11/dist-packages (from aiohttp->torch_geometric) (1.18.3)\n",
            "Requirement already satisfied: MarkupSafe>=2.0 in /usr/local/lib/python3.11/dist-packages (from jinja2->torch_geometric) (3.0.2)\n",
            "Requirement already satisfied: charset-normalizer<4,>=2 in /usr/local/lib/python3.11/dist-packages (from requests->torch_geometric) (3.4.1)\n",
            "Requirement already satisfied: idna<4,>=2.5 in /usr/local/lib/python3.11/dist-packages (from requests->torch_geometric) (3.10)\n",
            "Requirement already satisfied: urllib3<3,>=1.21.1 in /usr/local/lib/python3.11/dist-packages (from requests->torch_geometric) (2.3.0)\n",
            "Requirement already satisfied: certifi>=2017.4.17 in /usr/local/lib/python3.11/dist-packages (from requests->torch_geometric) (2025.1.31)\n",
            "Downloading torch_geometric-2.6.1-py3-none-any.whl (1.1 MB)\n",
            "\u001b[2K   \u001b[90m━━━━━━━━━━━━━━━━━━━━━━━━━━━━━━━━━━━━━━━━\u001b[0m \u001b[32m1.1/1.1 MB\u001b[0m \u001b[31m25.2 MB/s\u001b[0m eta \u001b[36m0:00:00\u001b[0m\n",
            "\u001b[?25hInstalling collected packages: torch_geometric\n",
            "Successfully installed torch_geometric-2.6.1\n"
          ]
        }
      ],
      "source": [
        "!pip install torch_geometric"
      ]
    },
    {
      "cell_type": "code",
      "execution_count": null,
      "metadata": {
        "colab": {
          "base_uri": "https://localhost:8080/"
        },
        "id": "qHrszoOnBmXZ",
        "outputId": "dbb46e6a-8d56-48ca-f221-d0bacba88c4b"
      },
      "outputs": [
        {
          "name": "stderr",
          "output_type": "stream",
          "text": [
            "<ipython-input-49-67c615eb840c>:4: FutureWarning: You are using `torch.load` with `weights_only=False` (the current default value), which uses the default pickle module implicitly. It is possible to construct malicious pickle data which will execute arbitrary code during unpickling (See https://github.com/pytorch/pytorch/blob/main/SECURITY.md#untrusted-models for more details). In a future release, the default value for `weights_only` will be flipped to `True`. This limits the functions that could be executed during unpickling. Arbitrary objects will no longer be allowed to be loaded via this mode unless they are explicitly allowlisted by the user via `torch.serialization.add_safe_globals`. We recommend you start setting `weights_only=True` for any use case where you don't have full control of the loaded file. Please open an issue on GitHub for any issues related to this experimental feature.\n",
            "  graphs = torch.load(file_path)\n"
          ]
        }
      ],
      "source": [
        "import torch\n",
        "import os\n",
        "file_path = os.path.join(extract_path, \"processed_graphs.pt\")\n",
        "graphs = torch.load(file_path, weights_only = )\n",
        "\n",
        "print(f\"Loaded {len(graphs)} graphs successfully!\")"
      ]
    },
    {
      "cell_type": "markdown",
      "metadata": {
        "id": "UvPde9kwBr5C"
      },
      "source": [
        "#GGNN"
      ]
    },
    {
      "cell_type": "code",
      "execution_count": null,
      "metadata": {
        "id": "nJmadzIWBrUl"
      },
      "outputs": [],
      "source": [
        "import torch\n",
        "import torch.nn.functional as F\n",
        "from torch.nn import Linear, GRU, BatchNorm1d, Dropout\n",
        "from torch_geometric.nn import MessagePassing, global_mean_pool\n",
        "\n",
        "class GGNNLayer(MessagePassing):\n",
        "    def __init__(self, in_channels, out_channels):\n",
        "        super().__init__(aggr='add')\n",
        "        self.lin = Linear(in_channels, out_channels)\n",
        "        self.gru = GRU(out_channels, out_channels)\n",
        "\n",
        "    def forward(self, x, edge_index):\n",
        "        x = self.lin(x)\n",
        "        m = self.propagate(edge_index, x=x)\n",
        "        x, _ = self.gru(m.unsqueeze(0), x.unsqueeze(0))\n",
        "        return x.squeeze(0)\n",
        "\n",
        "    def message(self, x_j):\n",
        "        return x_j\n",
        "\n",
        "class GGNN(torch.nn.Module):\n",
        "    def __init__(self, num_node_features, num_global_features, hidden_dim=128, num_layers=3, dropout=0.3):\n",
        "        super().__init__()\n",
        "        self.num_layers = num_layers\n",
        "        self.dropout = dropout\n",
        "        self.layers = torch.nn.ModuleList()\n",
        "        self.bns = torch.nn.ModuleList()\n",
        "        self.layers.append(GGNNLayer(num_node_features, hidden_dim))\n",
        "        self.bns.append(BatchNorm1d(hidden_dim))\n",
        "\n",
        "        for _ in range(num_layers - 1):\n",
        "            self.layers.append(GGNNLayer(hidden_dim, hidden_dim))\n",
        "            self.bns.append(BatchNorm1d(hidden_dim))\n",
        "\n",
        "        self.fc1 = Linear(hidden_dim + num_global_features, 128)\n",
        "        self.fc2 = Linear(128, 1)\n",
        "\n",
        "    def forward(self, x, edge_index, batch, global_features):\n",
        "        for i in range(self.num_layers):\n",
        "            x = self.layers[i](x, edge_index)\n",
        "            x = self.bns[i](x)\n",
        "            x = F.leaky_relu(x)\n",
        "            x = F.dropout(x, p=self.dropout, training=self.training)\n",
        "\n",
        "        x = global_mean_pool(x, batch)\n",
        "\n",
        "        batch_size = batch.max().item() + 1\n",
        "        global_features = global_features.view(batch_size, -1)\n",
        "\n",
        "        x = torch.cat([x, global_features], dim=1)\n",
        "        x = F.leaky_relu(self.fc1(x))\n",
        "        x = F.dropout(x, p=self.dropout, training=self.training)\n",
        "        x = self.fc2(x)\n",
        "\n",
        "        return x.squeeze()"
      ]
    },
    {
      "cell_type": "code",
      "execution_count": null,
      "metadata": {
        "colab": {
          "base_uri": "https://localhost:8080/"
        },
        "id": "T76W4rRXDYAC",
        "outputId": "625757af-9802-4376-edb8-c367bde230db"
      },
      "outputs": [
        {
          "name": "stdout",
          "output_type": "stream",
          "text": [
            "Train samples: 80\n",
            "Validation samples: 10\n",
            "Test samples: 10\n"
          ]
        }
      ],
      "source": [
        "from torch_geometric.loader import DataLoader\n",
        "import torch\n",
        "\n",
        "torch.manual_seed(42)\n",
        "num_samples = len(graphs)\n",
        "\n",
        "train_ratio, val_ratio, test_ratio = 0.8,0.1,0.1\n",
        "\n",
        "train_size = int(train_ratio * num_samples)\n",
        "val_size = int(val_ratio * num_samples)\n",
        "test_size = num_samples - train_size - val_size\n",
        "\n",
        "train_graphs = graphs[:train_size]\n",
        "val_graphs = graphs[train_size:train_size + val_size]\n",
        "test_graphs = graphs[train_size + val_size:]\n",
        "\n",
        "train_loader = DataLoader(train_graphs, batch_size=32, shuffle=True)\n",
        "val_loader = DataLoader(val_graphs, batch_size=32, shuffle=False)\n",
        "test_loader = DataLoader(test_graphs, batch_size=32, shuffle=False)\n",
        "\n",
        "print(f\"Train samples: {len(train_graphs)}\")\n",
        "print(f\"Validation samples: {len(val_graphs)}\")\n",
        "print(f\"Test samples: {len(test_graphs)}\")\n"
      ]
    },
    {
      "cell_type": "code",
      "execution_count": null,
      "metadata": {
        "colab": {
          "base_uri": "https://localhost:8080/"
        },
        "id": "FLm_Q9v9B_2o",
        "outputId": "1c543a36-84de-47fe-a885-d6d347ff9849"
      },
      "outputs": [
        {
          "name": "stderr",
          "output_type": "stream",
          "text": []
        },
        {
          "name": "stdout",
          "output_type": "stream",
          "text": [
            "Epoch 1: Train Loss = 1.9305, Val Loss = 1.7693\n"
          ]
        },
        {
          "name": "stderr",
          "output_type": "stream",
          "text": []
        },
        {
          "name": "stdout",
          "output_type": "stream",
          "text": [
            "Epoch 2: Train Loss = 1.5987, Val Loss = 1.7467\n"
          ]
        },
        {
          "name": "stderr",
          "output_type": "stream",
          "text": []
        },
        {
          "name": "stdout",
          "output_type": "stream",
          "text": [
            "Epoch 3: Train Loss = 1.4937, Val Loss = 1.7052\n"
          ]
        },
        {
          "name": "stderr",
          "output_type": "stream",
          "text": []
        },
        {
          "name": "stdout",
          "output_type": "stream",
          "text": [
            "Epoch 4: Train Loss = 1.4183, Val Loss = 1.6845\n"
          ]
        },
        {
          "name": "stderr",
          "output_type": "stream",
          "text": []
        },
        {
          "name": "stdout",
          "output_type": "stream",
          "text": [
            "Epoch 5: Train Loss = 1.3465, Val Loss = 1.6641\n"
          ]
        },
        {
          "name": "stderr",
          "output_type": "stream",
          "text": []
        },
        {
          "name": "stdout",
          "output_type": "stream",
          "text": [
            "Epoch 6: Train Loss = 1.2773, Val Loss = 1.6708\n"
          ]
        },
        {
          "name": "stderr",
          "output_type": "stream",
          "text": []
        },
        {
          "name": "stdout",
          "output_type": "stream",
          "text": [
            "Epoch 7: Train Loss = 1.2122, Val Loss = 1.6557\n"
          ]
        },
        {
          "name": "stderr",
          "output_type": "stream",
          "text": []
        },
        {
          "name": "stdout",
          "output_type": "stream",
          "text": [
            "Epoch 8: Train Loss = 1.1471, Val Loss = 1.6401\n"
          ]
        },
        {
          "name": "stderr",
          "output_type": "stream",
          "text": []
        },
        {
          "name": "stdout",
          "output_type": "stream",
          "text": [
            "Epoch 9: Train Loss = 1.0848, Val Loss = 1.6237\n"
          ]
        },
        {
          "name": "stderr",
          "output_type": "stream",
          "text": []
        },
        {
          "name": "stdout",
          "output_type": "stream",
          "text": [
            "Epoch 10: Train Loss = 1.0419, Val Loss = 1.6182\n"
          ]
        }
      ],
      "source": [
        "import torch\n",
        "from torch.optim import Adam\n",
        "from tqdm import tqdm\n",
        "from torch.optim.lr_scheduler import CosineAnnealingLR\n",
        "\n",
        "device = torch.device('cuda' if torch.cuda.is_available() else 'cpu')\n",
        "\n",
        "num_node_features = graphs[0].x.shape[1]\n",
        "num_global_features = graphs[0].global_features.shape[0]\n",
        "\n",
        "model = GGNN(num_node_features, num_global_features, hidden_dim=128).to(device)\n",
        "\n",
        "optimizer = Adam(model.parameters(), lr=5e-4, weight_decay=5e-4)\n",
        "scheduler = CosineAnnealingLR(optimizer, T_max=EPOCHS)\n",
        "loss_fn = torch.nn.MSELoss()\n",
        "scaler = torch.amp.GradScaler(enabled=(device.type == 'cuda'))\n",
        "\n",
        "best_val_loss = float('inf')\n",
        "patience_counter = 0\n",
        "PATIENCE = 5\n",
        "EPOCHS = 10\n",
        "\n",
        "def train(model, loader):\n",
        "    model.train()\n",
        "    total_loss = 0\n",
        "\n",
        "    for batch in tqdm(loader, desc=\"Training\", leave=False):\n",
        "        batch = batch.to(device)\n",
        "\n",
        "        optimizer.zero_grad()\n",
        "\n",
        "        with torch.amp.autocast('cuda'):\n",
        "            output = model(batch.x, batch.edge_index, batch.batch, batch.global_features)\n",
        "            loss = loss_fn(output, batch.y)\n",
        "\n",
        "        scaler.scale(loss).backward()\n",
        "        scaler.unscale_(optimizer)\n",
        "        torch.nn.utils.clip_grad_norm_(model.parameters(), 1.0)\n",
        "        scaler.step(optimizer)\n",
        "        scaler.update()\n",
        "\n",
        "        total_loss += loss.item()\n",
        "\n",
        "    scheduler.step()\n",
        "    return total_loss / len(loader)\n",
        "\n",
        "def validate(model, loader):\n",
        "    model.eval()\n",
        "    total_loss = 0\n",
        "\n",
        "    with torch.no_grad(), torch.amp.autocast('cuda'):\n",
        "        for batch in loader:\n",
        "            batch = batch.to(device)\n",
        "            output = model(batch.x, batch.edge_index, batch.batch, batch.global_features)\n",
        "            loss = loss_fn(output, batch.y)\n",
        "            total_loss += loss.item()\n",
        "\n",
        "    return total_loss / len(loader)\n",
        "\n",
        "for epoch in range(1, EPOCHS + 1):\n",
        "    train_loss = train(model, train_loader)\n",
        "    val_loss = validate(model, val_loader)\n",
        "\n",
        "    print(f\"Epoch {epoch}: Train Loss = {train_loss:.4f}, Val Loss = {val_loss:.4f}\")\n",
        "\n",
        "    if val_loss < best_val_loss:\n",
        "        best_val_loss = val_loss\n",
        "        patience_counter = 0\n",
        "        torch.save(model.state_dict(), \"ggnn_model_final.pth\")\n",
        "    else:\n",
        "        patience_counter += 1\n",
        "        if patience_counter >= PATIENCE:\n",
        "            print(\"Early stopping triggered!\")\n",
        "            break\n"
      ]
    },
    {
      "cell_type": "code",
      "execution_count": null,
      "metadata": {
        "id": "p75quV6eXCvx"
      },
      "outputs": [],
      "source": [
        "torch.save(model.state_dict, \"ggnn_model_final.pth\")"
      ]
    },
    {
      "cell_type": "markdown",
      "metadata": {
        "id": "12ybzXiUcDX4"
      },
      "source": [
        "#Graphormer"
      ]
    },
    {
      "cell_type": "code",
      "execution_count": null,
      "metadata": {
        "colab": {
          "base_uri": "https://localhost:8080/"
        },
        "id": "R0uxEeb3je5L",
        "outputId": "3a16316d-081e-41b1-bec9-41348e01cc6c"
      },
      "outputs": [
        {
          "name": "stdout",
          "output_type": "stream",
          "text": [
            "Shape of node features: torch.Size([25, 6])\n",
            "Shape of labels: torch.Size([1])\n"
          ]
        }
      ],
      "source": [
        "print(\"Shape of node features:\", graphs[0].x.shape)\n",
        "print(\"Shape of labels:\", graphs[0].y.shape)"
      ]
    },
    {
      "cell_type": "code",
      "execution_count": null,
      "metadata": {
        "id": "vwuJbPcicG6r"
      },
      "outputs": [],
      "source": [
        "import torch\n",
        "import torch.nn as nn\n",
        "import torch.nn.functional as F\n",
        "from torch_geometric.nn import global_mean_pool, TransformerConv\n",
        "\n",
        "class Graphormer(nn.Module):\n",
        "    def __init__(self, input_dim, hidden_dim, output_dim, num_heads, num_layers, global_feature_dim=0):\n",
        "        super(Graphormer, self).__init__()\n",
        "        self.embedding = nn.Linear(input_dim, hidden_dim)\n",
        "        self.transformer_layers = nn.ModuleList([\n",
        "            TransformerConv(hidden_dim, hidden_dim // num_heads, heads=num_heads)\n",
        "            for _ in range(num_layers)\n",
        "        ])\n",
        "        self.global_pool = global_mean_pool\n",
        "        self.fc = nn.Linear(hidden_dim + global_feature_dim, output_dim)\n",
        "        self.droput = nn.Dropout(0.1)\n",
        "\n",
        "    def forward(self, x, edge_index, batch, global_features=None):\n",
        "     x = self.embedding(x)\n",
        "     for transformer in self.transformer_layers:\n",
        "        x = transformer(x, edge_index)\n",
        "        x = F.relu(x)\n",
        "        x = self.dropout(x)\n",
        "     x = self.global_pool(x, batch)\n",
        "     if global_features is not None:\n",
        "        global_features = global_features.view(x.shape[0], -1)\n",
        "        x = torch.cat([x, global_features], dim=1)\n",
        "     x = self.fc(x)\n",
        "     return x"
      ]
    },
    {
      "cell_type": "code",
      "execution_count": null,
      "metadata": {
        "colab": {
          "base_uri": "https://localhost:8080/"
        },
        "id": "d3jnQfincJWp",
        "outputId": "29f7cb84-6f36-4bb5-d2a1-1c6b8203f729"
      },
      "outputs": [
        {
          "name": "stderr",
          "output_type": "stream",
          "text": []
        },
        {
          "name": "stdout",
          "output_type": "stream",
          "text": [
            "Epoch 1: Train Loss = 0.2059, Val Loss = 0.0888\n"
          ]
        },
        {
          "name": "stderr",
          "output_type": "stream",
          "text": []
        },
        {
          "name": "stdout",
          "output_type": "stream",
          "text": [
            "Epoch 2: Train Loss = 0.1591, Val Loss = 0.1343\n"
          ]
        },
        {
          "name": "stderr",
          "output_type": "stream",
          "text": []
        },
        {
          "name": "stdout",
          "output_type": "stream",
          "text": [
            "Epoch 3: Train Loss = 0.0916, Val Loss = 0.1010\n"
          ]
        },
        {
          "name": "stderr",
          "output_type": "stream",
          "text": []
        },
        {
          "name": "stdout",
          "output_type": "stream",
          "text": [
            "Epoch 4: Train Loss = 0.1104, Val Loss = 0.1205\n"
          ]
        },
        {
          "name": "stderr",
          "output_type": "stream",
          "text": []
        },
        {
          "name": "stdout",
          "output_type": "stream",
          "text": [
            "Epoch 5: Train Loss = 0.1137, Val Loss = 0.0923\n"
          ]
        },
        {
          "name": "stderr",
          "output_type": "stream",
          "text": []
        },
        {
          "name": "stdout",
          "output_type": "stream",
          "text": [
            "Epoch 6: Train Loss = 0.0822, Val Loss = 0.0934\n",
            "Early stopping triggered!\n"
          ]
        }
      ],
      "source": [
        "import torch\n",
        "from torch.optim import Adam\n",
        "from torch.optim.lr_scheduler import CosineAnnealingLR\n",
        "from tqdm import tqdm\n",
        "\n",
        "def train_graphormer(model, loader, optimizer, scheduler, loss_fn, device):\n",
        "    model.train()\n",
        "    total_loss = 0\n",
        "    for batch in tqdm(loader, desc=\"Training\", leave=False):\n",
        "        batch = batch.to(device)\n",
        "        optimizer.zero_grad()\n",
        "        global_features = batch.global_features if hasattr(batch, 'global_features') else None\n",
        "        output = model(batch.x, batch.edge_index, batch.batch, global_features)\n",
        "        loss = loss_fn(output, batch.y)\n",
        "        loss.backward()\n",
        "        torch.nn.utils.clip_grad_norm_(model.parameters(), 1.0)\n",
        "        optimizer.step()\n",
        "        total_loss += loss.item()\n",
        "    scheduler.step()\n",
        "    return total_loss / len(loader)\n",
        "\n",
        "def validate_graphormer(model, loader, loss_fn, device):\n",
        "    model.eval()\n",
        "    total_loss = 0\n",
        "    with torch.no_grad():\n",
        "        for batch in loader:\n",
        "            batch = batch.to(device)\n",
        "            global_features = batch.global_features if hasattr(batch, 'global_features') else None\n",
        "            output = model(batch.x, batch.edge_index, batch.batch, global_features)\n",
        "            loss = loss_fn(output, batch.y)\n",
        "            total_loss += loss.item()\n",
        "    return total_loss / len(loader)\n",
        "\n",
        "if __name__ == \"__main__\":\n",
        "    device = torch.device('cuda' if torch.cuda.is_available() else 'cpu')\n",
        "    input_dim = graphs[0].x.shape[1]\n",
        "    output_dim = 1\n",
        "    global_feature_dim = 0\n",
        "\n",
        "    model = Graphormer(\n",
        "        input_dim=input_dim,\n",
        "        hidden_dim=128,\n",
        "        output_dim=output_dim,\n",
        "        num_heads=8,\n",
        "        num_layers=4,\n",
        "        global_feature_dim=global_feature_dim\n",
        "    ).to(device)\n",
        "\n",
        "    optimizer = Adam(model.parameters(), lr=1e-3, weight_decay=1e-3)\n",
        "    scheduler = CosineAnnealingLR(optimizer, T_max=30)\n",
        "    loss_fn = nn.MSELoss()\n",
        "\n",
        "    best_val_loss = float('inf')\n",
        "    patience_counter = 0\n",
        "    PATIENCE = 5\n",
        "    EPOCHS = 10\n",
        "\n",
        "    for epoch in range(1, EPOCHS + 1):\n",
        "        train_loss = train_graphormer(model, train_loader, optimizer, scheduler, loss_fn, device)\n",
        "        val_loss = validate_graphormer(model, val_loader, loss_fn, device)\n",
        "        print(f\"Epoch {epoch}: Train Loss = {train_loss:.4f}, Val Loss = {val_loss:.4f}\")\n",
        "\n",
        "        if val_loss < best_val_loss:\n",
        "            best_val_loss = val_loss\n",
        "            patience_counter = 0\n",
        "            torch.save(model.state_dict(), \"graphormer_model_final.pth\")\n",
        "        else:\n",
        "            patience_counter += 1\n",
        "            if patience_counter >= PATIENCE:\n",
        "                print(\"Early stopping triggered!\")\n",
        "                break"
      ]
    }
  ],
  "metadata": {
    "accelerator": "GPU",
    "colab": {
      "gpuType": "T4",
      "provenance": []
    },
    "kernelspec": {
      "display_name": "Python 3",
      "name": "python3"
    },
    "language_info": {
      "name": "python"
    }
  },
  "nbformat": 4,
  "nbformat_minor": 0
}